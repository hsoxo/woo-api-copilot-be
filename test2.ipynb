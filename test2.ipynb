{
 "cells": [
  {
   "cell_type": "code",
   "execution_count": 1,
   "metadata": {},
   "outputs": [],
   "source": [
    "PINECONE_KEY = \"\"\n",
    "OPENAI_KEY = \"\"\n",
    "index_name = \"api-doc\"\n",
    "import os\n",
    "os.environ['OPENAI_API_KEY'] = OPENAI_KEY"
   ]
  },
  {
   "cell_type": "code",
   "execution_count": 5,
   "metadata": {},
   "outputs": [
    {
     "name": "stderr",
     "output_type": "stream",
     "text": [
      "/opt/conda/lib/python3.11/site-packages/pinecone/data/index.py:1: TqdmWarning: IProgress not found. Please update jupyter and ipywidgets. See https://ipywidgets.readthedocs.io/en/stable/user_install.html\n",
      "  from tqdm.autonotebook import tqdm\n"
     ]
    }
   ],
   "source": [
    "from pinecone import Pinecone, ServerlessSpec\n",
    "from langchain_openai import OpenAIEmbeddings\n",
    "\n",
    "\n",
    "# 初始化Pinecone\n",
    "pc = Pinecone(api_key=PINECONE_KEY)\n",
    "\n",
    "# 创建一个索引（如果已经创建了可以跳过）\n",
    "# if index_name not in pc.list_indexes():\n",
    "#     pc.create_index(\n",
    "#     name=index_name,test\n",
    "#     dimension=3072, # Replace with your model dimensions\n",
    "#     metric=\"cosine\", # Replace with your model metric\n",
    "#     spec=ServerlessSpec(\n",
    "#         cloud=\"aws\",\n",
    "#         region=\"us-east-1\"\n",
    "#     ) )  # 根据OpenAI的embedding维度\n",
    "\n",
    "# 连接到Pinecone索引\n",
    "index = pc.Index(index_name)\n",
    "\n",
    "# 创建OpenAI的嵌入模型\n",
    "embeddings = OpenAIEmbeddings(model=\"text-embedding-3-large\", openai_api_key=OPENAI_KEY)\n"
   ]
  },
  {
   "cell_type": "code",
   "execution_count": 4,
   "metadata": {},
   "outputs": [
    {
     "data": {
      "text/plain": [
       "['rag', 'Untitled.ipynb', '.aws', '.ipynb_checkpoints']"
      ]
     },
     "execution_count": 4,
     "metadata": {},
     "output_type": "execute_result"
    }
   ],
   "source": [
    "import os \n",
    "os.listdir()"
   ]
  },
  {
   "cell_type": "code",
   "execution_count": 7,
   "metadata": {},
   "outputs": [],
   "source": [
    "import re\n",
    "\n",
    "with open(\"rag/docs/_rest-api.md\", 'r') as file:\n",
    "    data = file.read()\n",
    "\n",
    "sections = re.split(r'\\n## ', data)"
   ]
  },
  {
   "cell_type": "code",
   "execution_count": 8,
   "metadata": {},
   "outputs": [],
   "source": [
    "import json\n",
    "\n",
    "def extract_api_information(api_text): # Extract the name, description, response, and parameters from the API text. api_info = {}\n",
    "    api_info = {}\n",
    "\n",
    "    # Extract the API name (from the header)\n",
    "    name_end = api_text.find(\"\\n\", 0)\n",
    "    api_info[\"name\"] = api_text[0:name_end]\n",
    "\n",
    "    # Extract the description (between the \"Limit\" and \"Response\")\n",
    "    description_start = api_text.find(\"**Limit\") \n",
    "    response_start = api_text.find(\"> **Response**\")\n",
    "    description = api_text[description_start:response_start].strip()\n",
    "    api_info[\"description\"] = description\n",
    "\n",
    "    # Extract the response block (between \"Response\" and the next section)\n",
    "    response_start = api_text.find(\"```js\", response_start)\n",
    "    response_end = api_text.find(\"```\", response_start + 3)\n",
    "    response = api_text[response_start:response_end + 3].strip()\n",
    "    api_info[\"response\"] = response\n",
    "\n",
    "    # Extract parameters (if any)\n",
    "    parameters_start = api_text.find(\"**Parameters**\")\n",
    "    if parameters_start != -1:\n",
    "        parameters = api_text[parameters_start:].strip()\n",
    "    else:\n",
    "        parameters = \"None\"\n",
    "    api_info[\"parameters\"] = parameters\n",
    "\n",
    "    return api_info\n",
    "\n",
    "def extract_api_information(api_text):    \n",
    "    # Extract the API name (from the header)\n",
    "    name_end = api_text.find(\"\\n\", 0)\n",
    "    name = api_text[0:name_end]\n",
    "\n",
    "    # 提取描述\n",
    "    desc_match = re.findall(\"`\\n\\n([\\S\\n\\t\\v ]*?)\\*\\*\", api_text)\n",
    "    description = desc_match[0].replace(\">\", \"\").replace(\"\\n\", \"\").strip() if desc_match else \"No description\"\n",
    "\n",
    "    endpoint_match = re.search(r'`\\s*(GET|POST|PUT|DELETE)\\s+([^\\s]+)\\s*`', api_text)\n",
    "    endpoint = f\"{endpoint_match.group(1)} {endpoint_match.group(2)}\" if endpoint_match else \"No endpoint\"\n",
    "\n",
    "    # 使用正则表达式根据 \"**Parameters**\" 和 \"**Response**\" 进行拆分\n",
    "    parts = re.split(r'\\*\\*(Parameters|Response|Permission)\\*\\*', api_text)\n",
    "\n",
    "    parameters = \"No parameters\"\n",
    "    response = \"No response\"\n",
    "\n",
    "    # 遍历拆分后的部分，根据标记提取内容\n",
    "    for i in range(1, len(parts), 2):\n",
    "        if parts[i] == \"Parameters\":\n",
    "            parameters = parts[i+1].strip()\n",
    "        elif parts[i] == \"Response\":\n",
    "            response_match = re.search(r'```js(.*?)```', parts[i+1], re.DOTALL)\n",
    "            if response_match:\n",
    "                response = response_match.group(1).strip()\n",
    "                # 清理多余的空格和换行符\n",
    "                response = re.sub(r'\\s+', ' ', response).replace(' ,', ',')\n",
    "    \n",
    "    # 返回提取到的结果，保证顺序为parameters -> response\n",
    "    return {\n",
    "        \"name\": name,\n",
    "        \"description\": description,\n",
    "        \"endpoint\": endpoint,\n",
    "        \"parameters\": parameters,\n",
    "        \"response\": response\n",
    "    }\n",
    "\n",
    "parsed = []\n",
    "for i in sections:\n",
    "    c = extract_api_information(i)\n",
    "    parsed.append(c)\n",
    "parsed = parsed[1:]"
   ]
  },
  {
   "cell_type": "code",
   "execution_count": 9,
   "metadata": {},
   "outputs": [],
   "source": [
    "docs = []\n",
    "for i in parsed:\n",
    "    docs.append({\n",
    "        'id': i['name'],\n",
    "        'text': json.dumps(i)\n",
    "    })"
   ]
  },
  {
   "cell_type": "code",
   "execution_count": 17,
   "metadata": {},
   "outputs": [
    {
     "data": {
      "text/plain": [
       "{'upserted_count': 79}"
      ]
     },
     "execution_count": 17,
     "metadata": {},
     "output_type": "execute_result"
    }
   ],
   "source": [
    "from openai import OpenAI\n",
    "client = OpenAI()\n",
    "\n",
    "# 提取文本内容进行嵌入\n",
    "texts = [doc[\"text\"] for doc in docs]\n",
    "ids = [doc[\"id\"] for doc in docs]\n",
    "\n",
    "# 调用OpenAI生成嵌入向量\n",
    "response = client.embeddings.create(\n",
    "    input=texts,\n",
    "    model=\"text-embedding-3-large\"\n",
    ")\n",
    "\n",
    "# 获取嵌入向量\n",
    "embeddings = [embedding.embedding for embedding in response.data]\n",
    "\n",
    "# 格式化为Pinecone要求的格式 (id, 向量)\n",
    "pinecone_data = [(doc_id, embedding) for doc_id, embedding in zip(ids, embeddings)]\n",
    "\n",
    "# 将嵌入向量存储到Pinecone中\n",
    "index.upsert(vectors=pinecone_data)\n"
   ]
  },
  {
   "cell_type": "code",
   "execution_count": 2,
   "metadata": {},
   "outputs": [],
   "source": [
    "from openai import OpenAI\n",
    "client = OpenAI()"
   ]
  },
  {
   "cell_type": "code",
   "execution_count": 12,
   "metadata": {},
   "outputs": [],
   "source": [
    "\n",
    "\n",
    "def query_pinecone(text):\n",
    "    query_embedding = client.embeddings.create(\n",
    "        input=[text],\n",
    "        model=\"text-embedding-3-large\"\n",
    "    ).data[0].embedding\n",
    "\n",
    "    query_result = index.query(vector=query_embedding, top_k=5)\n",
    "    docs_results = []\n",
    "    for i in query_result.get('matches'):\n",
    "        r = [k for k in docs if k['id'] == i['id']]\n",
    "        docs_results.append(r[0]['text'])\n",
    "    return docs_results\n",
    "def enhance_response(query, docs):\n",
    "  prompt = f\"\"\"\n",
    "  You are an API support assistant. Please generate a concise, accurate, and customer-friendly response based on the following documentation to help them understand how to call the API.\n",
    "\n",
    "  These are the related api documentations: \n",
    "  \"\"\"\n",
    "\n",
    "\n",
    "  for r in docs:\n",
    "      prompt += f\"{r}\\n\"\n",
    "\n",
    "  response = client.chat.completions.create(\n",
    "    model=\"gpt-4o\",\n",
    "    messages=[\n",
    "      {\"role\": \"system\", \"content\": prompt},\n",
    "      {\"role\": \"user\", \"content\": query_text,},\n",
    "    ]\n",
    "  )\n",
    "\n",
    "  return response.choices[0].message.content"
   ]
  },
  {
   "cell_type": "code",
   "execution_count": 13,
   "metadata": {},
   "outputs": [
    {
     "name": "stdout",
     "output_type": "stream",
     "text": [
      "Sure! Below is an example of how you can use the \"Get One Position Info\" endpoint in Python. This example assumes you have the `requests` library installed. If you don't have it yet, you can install it using `pip install requests`.\n",
      "\n",
      "```python\n",
      "import requests\n",
      "\n",
      "def get_position_info(symbol):\n",
      "    # Define the endpoint URL, replace ':symbol' with the actual symbol\n",
      "    url = f\"https://api.yourservice.com/v1/position/{symbol}\"\n",
      "\n",
      "    # Make a GET request to the API endpoint\n",
      "    response = requests.get(url)\n",
      "\n",
      "    # Check if the request was successful\n",
      "    if response.status_code == 200:\n",
      "        # Parse the response as JSON\n",
      "        data = response.json()\n",
      "        if data[\"success\"]:\n",
      "            return data\n",
      "        else:\n",
      "            print(\"Failed to retrieve position info.\")\n",
      "            return None\n",
      "    else:\n",
      "        print(f\"Error: {response.status_code}\")\n",
      "        return None\n",
      "\n",
      "# Replace 'PERP_BTC_USDT' with the symbol you want to check\n",
      "symbol = 'PERP_BTC_USDT'\n",
      "position_info = get_position_info(symbol)\n",
      "\n",
      "if position_info:\n",
      "    print(position_info)\n",
      "```\n",
      "\n",
      "This script will output the position info for the given symbol. Make sure to replace `\"https://api.yourservice.com\"` with the actual base URL of your API.\n"
     ]
    }
   ],
   "source": [
    "\n",
    "query_text = \"Can you show me how to use the position info endpoint? I need a python example code\"\n",
    "response = query_pinecone(query_text)\n",
    "print(enhance_response(query_text, response))\n"
   ]
  },
  {
   "cell_type": "code",
   "execution_count": 48,
   "metadata": {},
   "outputs": [],
   "source": []
  },
  {
   "cell_type": "code",
   "execution_count": 34,
   "metadata": {},
   "outputs": [
    {
     "data": {
      "text/plain": [
       "'1.45.0'"
      ]
     },
     "execution_count": 34,
     "metadata": {},
     "output_type": "execute_result"
    }
   ],
   "source": [
    "import openai\n",
    "openai.__version__"
   ]
  },
  {
   "cell_type": "code",
   "execution_count": null,
   "metadata": {},
   "outputs": [],
   "source": []
  }
 ],
 "metadata": {
  "kernelspec": {
   "display_name": "Python 3 (ipykernel)",
   "language": "python",
   "name": "python3"
  },
  "language_info": {
   "codemirror_mode": {
    "name": "ipython",
    "version": 3
   },
   "file_extension": ".py",
   "mimetype": "text/x-python",
   "name": "python",
   "nbconvert_exporter": "python",
   "pygments_lexer": "ipython3",
   "version": "3.11.6"
  }
 },
 "nbformat": 4,
 "nbformat_minor": 4
}
